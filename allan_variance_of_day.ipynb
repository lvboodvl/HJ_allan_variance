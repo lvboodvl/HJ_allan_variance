{
 "cells": [
  {
   "cell_type": "code",
   "execution_count": 23,
   "metadata": {},
   "outputs": [],
   "source": [
    "import numpy as np\n",
    "import pandas as pd"
   ]
  },
  {
   "cell_type": "code",
   "execution_count": 25,
   "metadata": {},
   "outputs": [],
   "source": [
    "data_origin = pd.read_csv('data_yi.csv', header=None)\n",
    "y =data_origin[0] #  tao = 1d(86400s) y[i]=(x[i]-x[i-1])/tao"
   ]
  },
  {
   "cell_type": "code",
   "execution_count": 26,
   "metadata": {},
   "outputs": [],
   "source": [
    "average_y = np.average(y) # average of y"
   ]
  },
  {
   "cell_type": "code",
   "execution_count": 27,
   "metadata": {},
   "outputs": [
    {
     "name": "stdout",
     "output_type": "stream",
     "text": [
      "K=\n",
      "2.0021428571428568e-11\n"
     ]
    }
   ],
   "source": [
    "'''\n",
    "计算K\n",
    "'''\n",
    "t = range(15)\n",
    "average_t =  np.average(t)\n",
    "N = 15\n",
    "fen_zi = np.sum((y - average_y)*(t - average_t))\n",
    "fen_mu = np.sum((t - average_t) **2)\n",
    "K = fen_zi/fen_mu\n",
    "print('K=')\n",
    "print(K)"
   ]
  },
  {
   "cell_type": "code",
   "execution_count": 28,
   "metadata": {},
   "outputs": [
    {
     "name": "stdout",
     "output_type": "stream",
     "text": [
      "r=\n",
      "0.9818887177092819\n"
     ]
    }
   ],
   "source": [
    "'''\n",
    "计算相关系数r\n",
    "'''\n",
    "fen_zi_r = np.sum((y - average_y)*(t - average_t))\n",
    "fen_mu_r = np.sqrt(np.sum((y - average_y) **2)*np.sum((t - average_t) **2))\n",
    "r = fen_zi_r/fen_mu_r\n",
    "print('r=')\n",
    "print(r)"
   ]
  },
  {
   "cell_type": "code",
   "execution_count": 29,
   "metadata": {},
   "outputs": [
    {
     "name": "stdout",
     "output_type": "stream",
     "text": [
      "sigma_y=\n",
      "6.025602264758369e-12\n"
     ]
    }
   ],
   "source": [
    "diff_y = np.zeros(N-1)\n",
    "for k in range(N-1):\n",
    "    diff_y[k] = (y[k+1] - y[k] - K) **2\n",
    "if np.abs(r) >=0.6:\n",
    "    sigma_y = np.sqrt(0.5 * np.sum(diff_y)/(N - 1))\n",
    "else :\n",
    "    print('sigma_y is no_use')\n",
    "print('sigma_y=')\n",
    "print(sigma_y)"
   ]
  },
  {
   "cell_type": "code",
   "execution_count": null,
   "metadata": {},
   "outputs": [],
   "source": []
  }
 ],
 "metadata": {
  "kernelspec": {
   "display_name": "Python 3",
   "language": "python",
   "name": "python3"
  },
  "language_info": {
   "codemirror_mode": {
    "name": "ipython",
    "version": 3
   },
   "file_extension": ".py",
   "mimetype": "text/x-python",
   "name": "python",
   "nbconvert_exporter": "python",
   "pygments_lexer": "ipython3",
   "version": "3.6.7"
  }
 },
 "nbformat": 4,
 "nbformat_minor": 2
}
